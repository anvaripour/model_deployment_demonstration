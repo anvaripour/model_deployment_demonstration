import requests

url = 'http://localhost:8080/predict'

text = 'This movie was terrible. The acting was bad and the plot was confusing.'

response = requests.post(url, json={'text': text})

data = response.json()
label = data['label']
score = data['score']

print(f'Sentiment: {label}, Score: {score:.3f}')

